{
 "cells": [
  {
   "cell_type": "markdown",
   "id": "a862e383-ff22-47d6-b408-dad1c1dd3e36",
   "metadata": {},
   "source": [
    "## Libraries\n",
    "\n",
    "Import necessary libraries"
   ]
  },
  {
   "cell_type": "code",
   "execution_count": 1,
   "id": "1c97dd22-6f0f-44cb-811c-73f0db76e10f",
   "metadata": {
    "tags": []
   },
   "outputs": [],
   "source": [
    "import numpy as np\n",
    "import pandas as pd\n",
    "import matplotlib.pyplot as plt\n",
    "import seaborn as sns\n",
    "sns.set()\n",
    "\n",
    "from sklearn.preprocessing import StandardScaler\n",
    "\n",
    "from scipy.cluster.hierarchy import linkage, dendrogram\n",
    "from sklearn.cluster import KMeans"
   ]
  },
  {
   "cell_type": "markdown",
   "id": "f8c21b83-2405-4352-9e3e-59c9e5203a69",
   "metadata": {},
   "source": [
    "## Part1: Exploratory Data Analysis\n",
    "\n",
    "Read the data and familiarize with the data"
   ]
  },
  {
   "cell_type": "code",
   "execution_count": 2,
   "id": "57149ea4-a2ed-45eb-8839-cf8e5f819c86",
   "metadata": {
    "tags": []
   },
   "outputs": [
    {
     "data": {
      "text/html": [
       "<div>\n",
       "<style scoped>\n",
       "    .dataframe tbody tr th:only-of-type {\n",
       "        vertical-align: middle;\n",
       "    }\n",
       "\n",
       "    .dataframe tbody tr th {\n",
       "        vertical-align: top;\n",
       "    }\n",
       "\n",
       "    .dataframe thead th {\n",
       "        text-align: right;\n",
       "    }\n",
       "</style>\n",
       "<table border=\"1\" class=\"dataframe\">\n",
       "  <thead>\n",
       "    <tr style=\"text-align: right;\">\n",
       "      <th></th>\n",
       "      <th>minutes_watched</th>\n",
       "      <th>CLV</th>\n",
       "      <th>region</th>\n",
       "      <th>channel</th>\n",
       "    </tr>\n",
       "  </thead>\n",
       "  <tbody>\n",
       "    <tr>\n",
       "      <th>0</th>\n",
       "      <td>3197.0</td>\n",
       "      <td>205.42</td>\n",
       "      <td>2</td>\n",
       "      <td>4</td>\n",
       "    </tr>\n",
       "    <tr>\n",
       "      <th>1</th>\n",
       "      <td>63.0</td>\n",
       "      <td>149.99</td>\n",
       "      <td>0</td>\n",
       "      <td>1</td>\n",
       "    </tr>\n",
       "    <tr>\n",
       "      <th>2</th>\n",
       "      <td>605.0</td>\n",
       "      <td>119.00</td>\n",
       "      <td>2</td>\n",
       "      <td>2</td>\n",
       "    </tr>\n",
       "    <tr>\n",
       "      <th>3</th>\n",
       "      <td>20.0</td>\n",
       "      <td>240.00</td>\n",
       "      <td>2</td>\n",
       "      <td>4</td>\n",
       "    </tr>\n",
       "    <tr>\n",
       "      <th>4</th>\n",
       "      <td>245.0</td>\n",
       "      <td>184.36</td>\n",
       "      <td>1</td>\n",
       "      <td>4</td>\n",
       "    </tr>\n",
       "  </tbody>\n",
       "</table>\n",
       "</div>"
      ],
      "text/plain": [
       "   minutes_watched     CLV  region  channel\n",
       "0           3197.0  205.42       2        4\n",
       "1             63.0  149.99       0        1\n",
       "2            605.0  119.00       2        2\n",
       "3             20.0  240.00       2        4\n",
       "4            245.0  184.36       1        4"
      ]
     },
     "execution_count": 2,
     "metadata": {},
     "output_type": "execute_result"
    }
   ],
   "source": [
    "df = pd.read_csv(\"customer_segmentation_data.csv\", sep=',', index_col = False)\n",
    "df.head()"
   ]
  },
  {
   "cell_type": "markdown",
   "id": "33de0161-9f69-4847-b8e4-351fa41f4f58",
   "metadata": {
    "tags": []
   },
   "source": [
    "The dataset contains four columns. First column is student's overall engagement in `minutes_watched`. Second column is `CLV` i.e., customer lifetime value. Third column is geographical `region`, where the mapping is as follows:\n",
    "\n",
    "| Value | Region | \n",
    "|-------|---------------------------|\n",
    "| 0     | US, Canada, UK, Australia | \n",
    "| 1     | Western Europe | \n",
    "| 2     | Rest of the world | \n",
    "\n",
    "Last column is `channel` - contains results from the survey question: \"How did you hear about us?\" The mapping for this columns is as follows:\n",
    "\n",
    "| Value | channel | \n",
    "|-------|-----------|\n",
    "| 1     | Google | \n",
    "| 2     | Facebook | \n",
    "| 3     | YouTube |\n",
    "| 4     | LinkedIn |\n",
    "| 5     | Twitter |\n",
    "| 6     | Instagram |\n",
    "| 7     | Friend |\n",
    "| 8     | Other |"
   ]
  },
  {
   "cell_type": "code",
   "execution_count": 3,
   "id": "389cb1b3-1f78-45bd-97b9-f7c428e1dc56",
   "metadata": {
    "tags": []
   },
   "outputs": [
    {
     "data": {
      "text/html": [
       "<div>\n",
       "<style scoped>\n",
       "    .dataframe tbody tr th:only-of-type {\n",
       "        vertical-align: middle;\n",
       "    }\n",
       "\n",
       "    .dataframe tbody tr th {\n",
       "        vertical-align: top;\n",
       "    }\n",
       "\n",
       "    .dataframe thead th {\n",
       "        text-align: right;\n",
       "    }\n",
       "</style>\n",
       "<table border=\"1\" class=\"dataframe\">\n",
       "  <thead>\n",
       "    <tr style=\"text-align: right;\">\n",
       "      <th></th>\n",
       "      <th>minutes_watched</th>\n",
       "      <th>CLV</th>\n",
       "      <th>region</th>\n",
       "      <th>channel</th>\n",
       "    </tr>\n",
       "  </thead>\n",
       "  <tbody>\n",
       "    <tr>\n",
       "      <th>count</th>\n",
       "      <td>3725.000000</td>\n",
       "      <td>3834.000000</td>\n",
       "      <td>3834.000000</td>\n",
       "      <td>3834.000000</td>\n",
       "    </tr>\n",
       "    <tr>\n",
       "      <th>mean</th>\n",
       "      <td>1972.094497</td>\n",
       "      <td>118.383920</td>\n",
       "      <td>1.167188</td>\n",
       "      <td>3.870370</td>\n",
       "    </tr>\n",
       "    <tr>\n",
       "      <th>std</th>\n",
       "      <td>7401.693028</td>\n",
       "      <td>70.471274</td>\n",
       "      <td>0.923055</td>\n",
       "      <td>2.191972</td>\n",
       "    </tr>\n",
       "    <tr>\n",
       "      <th>min</th>\n",
       "      <td>0.000000</td>\n",
       "      <td>0.000000</td>\n",
       "      <td>0.000000</td>\n",
       "      <td>1.000000</td>\n",
       "    </tr>\n",
       "    <tr>\n",
       "      <th>25%</th>\n",
       "      <td>159.000000</td>\n",
       "      <td>62.580000</td>\n",
       "      <td>0.000000</td>\n",
       "      <td>2.000000</td>\n",
       "    </tr>\n",
       "    <tr>\n",
       "      <th>50%</th>\n",
       "      <td>512.000000</td>\n",
       "      <td>119.000000</td>\n",
       "      <td>2.000000</td>\n",
       "      <td>3.000000</td>\n",
       "    </tr>\n",
       "    <tr>\n",
       "      <th>75%</th>\n",
       "      <td>1521.000000</td>\n",
       "      <td>149.990000</td>\n",
       "      <td>2.000000</td>\n",
       "      <td>6.000000</td>\n",
       "    </tr>\n",
       "    <tr>\n",
       "      <th>max</th>\n",
       "      <td>288508.000000</td>\n",
       "      <td>626.400000</td>\n",
       "      <td>2.000000</td>\n",
       "      <td>8.000000</td>\n",
       "    </tr>\n",
       "  </tbody>\n",
       "</table>\n",
       "</div>"
      ],
      "text/plain": [
       "       minutes_watched          CLV       region      channel\n",
       "count      3725.000000  3834.000000  3834.000000  3834.000000\n",
       "mean       1972.094497   118.383920     1.167188     3.870370\n",
       "std        7401.693028    70.471274     0.923055     2.191972\n",
       "min           0.000000     0.000000     0.000000     1.000000\n",
       "25%         159.000000    62.580000     0.000000     2.000000\n",
       "50%         512.000000   119.000000     2.000000     3.000000\n",
       "75%        1521.000000   149.990000     2.000000     6.000000\n",
       "max      288508.000000   626.400000     2.000000     8.000000"
      ]
     },
     "execution_count": 3,
     "metadata": {},
     "output_type": "execute_result"
    }
   ],
   "source": [
    "df.describe()"
   ]
  },
  {
   "cell_type": "code",
   "execution_count": 4,
   "id": "10bca34c-85a9-4cbc-8c83-142a89368e2a",
   "metadata": {
    "tags": []
   },
   "outputs": [],
   "source": [
    "# Make a copy of the original dataframe\n",
    "df_segmentation = df.copy()"
   ]
  },
  {
   "cell_type": "code",
   "execution_count": 5,
   "id": "e91919f3-b8df-4f07-a766-9c0888e2c551",
   "metadata": {
    "tags": []
   },
   "outputs": [
    {
     "data": {
      "text/plain": [
       "minutes_watched    109\n",
       "CLV                  0\n",
       "region               0\n",
       "channel              0\n",
       "dtype: int64"
      ]
     },
     "execution_count": 5,
     "metadata": {},
     "output_type": "execute_result"
    }
   ],
   "source": [
    "# Check for missing values\n",
    "df_segmentation.isnull().sum()"
   ]
  },
  {
   "cell_type": "markdown",
   "id": "b71c74a1-f79b-4ca1-bf0c-c3f17793ba31",
   "metadata": {},
   "source": [
    "In `minutes_watched` category, there are 109 missing values. we will fill those empty values with zeroes for our analysis."
   ]
  },
  {
   "cell_type": "code",
   "execution_count": 6,
   "id": "4db8c965-8a48-468b-92df-54bd0fe30653",
   "metadata": {
    "tags": []
   },
   "outputs": [],
   "source": [
    "# Fill the missing values with zeroes\n",
    "df_segmentation = df_segmentation.fillna(0)"
   ]
  },
  {
   "cell_type": "code",
   "execution_count": 7,
   "id": "5801ea65-332c-4896-8eb5-c5ab2caf103e",
   "metadata": {
    "tags": []
   },
   "outputs": [
    {
     "data": {
      "text/plain": [
       "minutes_watched    float64\n",
       "CLV                float64\n",
       "region               int64\n",
       "channel              int64\n",
       "dtype: object"
      ]
     },
     "execution_count": 7,
     "metadata": {},
     "output_type": "execute_result"
    }
   ],
   "source": [
    "df_segmentation.dtypes"
   ]
  },
  {
   "cell_type": "markdown",
   "id": "0095b8f1-146b-498a-9ad7-b9254b68f891",
   "metadata": {},
   "source": [
    "### Correlation Estimate\n",
    "\n",
    "we start by estimating the correlation index between the variables"
   ]
  },
  {
   "cell_type": "code",
   "execution_count": 8,
   "id": "0ff318fe-2a02-42d2-9d35-b9c93e1e469e",
   "metadata": {
    "tags": []
   },
   "outputs": [],
   "source": [
    "correlation_matrix = df_segmentation.corr()"
   ]
  },
  {
   "cell_type": "code",
   "execution_count": 9,
   "id": "e1354b5c-9f37-4f34-b445-d986b571bc39",
   "metadata": {
    "tags": []
   },
   "outputs": [
    {
     "data": {
      "image/png": "[encoded data removed]",
      "text/plain": [
       "<Figure size 800x600 with 2 Axes>"
      ]
     },
     "metadata": {},
     "output_type": "display_data"
    }
   ],
   "source": [
    "plt.figure(figsize=(8, 6))\n",
    "sns.heatmap(data = correlation_matrix,\n",
    "           annot = True,\n",
    "           cmap = 'coolwarm',\n",
    "           vmin = -1,\n",
    "           vmax = 1)\n",
    "plt.title('Correlation Heatmap')\n",
    "plt.savefig('correlation.png')\n",
    "plt.show()"
   ]
  },
  {
   "cell_type": "markdown",
   "id": "901b956a-07f5-4e4c-b94a-c72224bb499c",
   "metadata": {},
   "source": [
    "This analysis does not reveal strong or positive correlations within the data. Therefore, I employ more sophisticated learning methods to understand the relationship within the data."
   ]
  },
  {
   "cell_type": "markdown",
   "id": "3ec20b08-9e06-445e-849a-0af6e29f2bc8",
   "metadata": {},
   "source": [
    "### Visualize Raw Data\n",
    "\n",
    "Create a scatter plot of the two numerical values in our data: `minutes_watched` and `CLV`"
   ]
  },
  {
   "cell_type": "code",
   "execution_count": 10,
   "id": "a70d172b-76ab-4356-809d-0498fcc0b234",
   "metadata": {
    "tags": []
   },
   "outputs": [
    {
     "data": {
      "image/png": "[encoded data removed]",
      "text/plain": [
       "<Figure size 1200x900 with 1 Axes>"
      ]
     },
     "metadata": {},
     "output_type": "display_data"
    }
   ],
   "source": [
    "plt.figure(figsize = (12, 9))\n",
    "plt.scatter(df_segmentation.iloc[:, 0], df_segmentation.iloc[:, 1])\n",
    "plt.xlabel('Minutes watched')\n",
    "plt.ylabel('CLV')\n",
    "plt.title('Visualization of raw data')\n",
    "plt.savefig('scatter.png')\n",
    "plt.show()"
   ]
  },
  {
   "cell_type": "markdown",
   "id": "22eb6d18-c559-4405-926e-f339ca82459c",
   "metadata": {},
   "source": [
    "Minutes_watched vs. CLV plot does not reveal much, apart from noticing a few outliers. Thus, I cannot conclude anything because the scale of the minutes watched vastly differs from that of the CLV. This leaves the chart looking cluttered. A possible solution would be to remove the outliers or rescale the minutes watched to hours watched.\n",
    "\n",
    "Lastly, this scatter plot serves as an illustrative reminder of a pivotal aspect of our analysis: the importance of uniformly scaling all features to ensure they hold equal weight during segmentation."
   ]
  },
  {
   "cell_type": "markdown",
   "id": "ec5d72f0-02c0-4cf0-a8ad-4fc3686fb020",
   "metadata": {},
   "source": [
    "## Create Dummy Variables\n",
    "\n",
    "To perform a quantitative analysis of the groups, I’ll create dummy variables for the region of countries and the channels - the survey answers. These are categorical answers, so having them as dummy variables makes sense."
   ]
  },
  {
   "cell_type": "code",
   "execution_count": 11,
   "id": "b529c168-45d1-424f-8af5-3c8ee91b0031",
   "metadata": {
    "tags": []
   },
   "outputs": [],
   "source": [
    "# Create a list of the channels of acquisition variable\n",
    "df_channels = df_segmentation['channel']"
   ]
  },
  {
   "cell_type": "code",
   "execution_count": 12,
   "id": "0804cb10-870c-4ac3-832e-c0ec10785ced",
   "metadata": {
    "tags": []
   },
   "outputs": [],
   "source": [
    "# Create a list of the geographic regions variable\n",
    "df_countries = df_segmentation['region']"
   ]
  },
  {
   "cell_type": "code",
   "execution_count": 13,
   "id": "8fecc420-3ee6-45fd-9f2c-cadc2d12b398",
   "metadata": {
    "tags": []
   },
   "outputs": [],
   "source": [
    "# Get dummy variables for each unique value in 'channel' using pandas function\n",
    "df_dummies = pd.get_dummies(df['channel'].apply(pd.Series).stack()) # df['channel'].apply(pd.Series).stack() reshapes the DataFrame df['channel'] into a Series, applies the pd.Series function to split the values into separate columns, and then stacks them into a single column.\n",
    "\n",
    "# Use groupby on index and then sum the results\n",
    "df_dummies = df_dummies.groupby(level=0).sum() # groups the dummy variables by the index level and aggregates the dummy variables by summing them up for each group\n",
    "\n",
    "# Join the dummy variables to original dataframe\n",
    "df = df.join(df_dummies)"
   ]
  },
  {
   "cell_type": "code",
   "execution_count": 14,
   "id": "4ad00c51-d02a-4ddc-a1e8-5dacc4785f54",
   "metadata": {
    "tags": []
   },
   "outputs": [],
   "source": [
    "# Creating dummy variables for the `df_channels` dataframe. \n",
    "segment_dummies = pd.get_dummies(df_channels, prefix = 'channel', prefix_sep = '_')\n",
    "\n",
    "# Appending the created dummy columns from `segment_dummies` to the `df_segmentation` dataframe.\n",
    "df_segmentation = pd.concat([df_segmentation, segment_dummies], axis = 1)"
   ]
  },
  {
   "cell_type": "code",
   "execution_count": 15,
   "id": "828ef938-9e56-4229-a7b2-c0aef04ec512",
   "metadata": {
    "tags": []
   },
   "outputs": [],
   "source": [
    "# Creating dummy variables for the `df_countries` dataframe. \n",
    "# Each column in `df_countries` will be prefixed with 'country_region_' in the new columns.\n",
    "segment_dummies_2 = pd.get_dummies(df_countries, prefix = 'country_region', prefix_sep = '_')\n",
    "\n",
    "# Appending the created dummy columns from `segment_dummies_2` to the `df_segmentation` dataframe.\n",
    "df_segmentation = pd.concat([df_segmentation, segment_dummies_2], axis = 1)"
   ]
  },
  {
   "cell_type": "code",
   "execution_count": 16,
   "id": "5889c184-1f86-42a3-a074-bcaff665c80d",
   "metadata": {
    "tags": []
   },
   "outputs": [],
   "source": [
    "# drop the channel variable as it is non-numerical and we'll not be able to perform the segmentation\n",
    "df_segmentation = df_segmentation.drop([\"channel\"], axis = 1)"
   ]
  },
  {
   "cell_type": "code",
   "execution_count": 17,
   "id": "3e5ef46d-d26b-4a5c-8b65-68c3714907a6",
   "metadata": {
    "tags": []
   },
   "outputs": [
    {
     "data": {
      "text/html": [
       "<div>\n",
       "<style scoped>\n",
       "    .dataframe tbody tr th:only-of-type {\n",
       "        vertical-align: middle;\n",
       "    }\n",
       "\n",
       "    .dataframe tbody tr th {\n",
       "        vertical-align: top;\n",
       "    }\n",
       "\n",
       "    .dataframe thead th {\n",
       "        text-align: right;\n",
       "    }\n",
       "</style>\n",
       "<table border=\"1\" class=\"dataframe\">\n",
       "  <thead>\n",
       "    <tr style=\"text-align: right;\">\n",
       "      <th></th>\n",
       "      <th>minutes_watched</th>\n",
       "      <th>CLV</th>\n",
       "      <th>region</th>\n",
       "      <th>channel_1</th>\n",
       "      <th>channel_2</th>\n",
       "      <th>channel_3</th>\n",
       "      <th>channel_4</th>\n",
       "      <th>channel_5</th>\n",
       "      <th>channel_6</th>\n",
       "      <th>channel_7</th>\n",
       "      <th>channel_8</th>\n",
       "      <th>country_region_0</th>\n",
       "      <th>country_region_1</th>\n",
       "      <th>country_region_2</th>\n",
       "    </tr>\n",
       "  </thead>\n",
       "  <tbody>\n",
       "    <tr>\n",
       "      <th>0</th>\n",
       "      <td>3197.0</td>\n",
       "      <td>205.42</td>\n",
       "      <td>2</td>\n",
       "      <td>False</td>\n",
       "      <td>False</td>\n",
       "      <td>False</td>\n",
       "      <td>True</td>\n",
       "      <td>False</td>\n",
       "      <td>False</td>\n",
       "      <td>False</td>\n",
       "      <td>False</td>\n",
       "      <td>False</td>\n",
       "      <td>False</td>\n",
       "      <td>True</td>\n",
       "    </tr>\n",
       "    <tr>\n",
       "      <th>1</th>\n",
       "      <td>63.0</td>\n",
       "      <td>149.99</td>\n",
       "      <td>0</td>\n",
       "      <td>True</td>\n",
       "      <td>False</td>\n",
       "      <td>False</td>\n",
       "      <td>False</td>\n",
       "      <td>False</td>\n",
       "      <td>False</td>\n",
       "      <td>False</td>\n",
       "      <td>False</td>\n",
       "      <td>True</td>\n",
       "      <td>False</td>\n",
       "      <td>False</td>\n",
       "    </tr>\n",
       "    <tr>\n",
       "      <th>2</th>\n",
       "      <td>605.0</td>\n",
       "      <td>119.00</td>\n",
       "      <td>2</td>\n",
       "      <td>False</td>\n",
       "      <td>True</td>\n",
       "      <td>False</td>\n",
       "      <td>False</td>\n",
       "      <td>False</td>\n",
       "      <td>False</td>\n",
       "      <td>False</td>\n",
       "      <td>False</td>\n",
       "      <td>False</td>\n",
       "      <td>False</td>\n",
       "      <td>True</td>\n",
       "    </tr>\n",
       "    <tr>\n",
       "      <th>3</th>\n",
       "      <td>20.0</td>\n",
       "      <td>240.00</td>\n",
       "      <td>2</td>\n",
       "      <td>False</td>\n",
       "      <td>False</td>\n",
       "      <td>False</td>\n",
       "      <td>True</td>\n",
       "      <td>False</td>\n",
       "      <td>False</td>\n",
       "      <td>False</td>\n",
       "      <td>False</td>\n",
       "      <td>False</td>\n",
       "      <td>False</td>\n",
       "      <td>True</td>\n",
       "    </tr>\n",
       "    <tr>\n",
       "      <th>4</th>\n",
       "      <td>245.0</td>\n",
       "      <td>184.36</td>\n",
       "      <td>1</td>\n",
       "      <td>False</td>\n",
       "      <td>False</td>\n",
       "      <td>False</td>\n",
       "      <td>True</td>\n",
       "      <td>False</td>\n",
       "      <td>False</td>\n",
       "      <td>False</td>\n",
       "      <td>False</td>\n",
       "      <td>False</td>\n",
       "      <td>True</td>\n",
       "      <td>False</td>\n",
       "    </tr>\n",
       "    <tr>\n",
       "      <th>...</th>\n",
       "      <td>...</td>\n",
       "      <td>...</td>\n",
       "      <td>...</td>\n",
       "      <td>...</td>\n",
       "      <td>...</td>\n",
       "      <td>...</td>\n",
       "      <td>...</td>\n",
       "      <td>...</td>\n",
       "      <td>...</td>\n",
       "      <td>...</td>\n",
       "      <td>...</td>\n",
       "      <td>...</td>\n",
       "      <td>...</td>\n",
       "      <td>...</td>\n",
       "    </tr>\n",
       "    <tr>\n",
       "      <th>3829</th>\n",
       "      <td>11.0</td>\n",
       "      <td>79.00</td>\n",
       "      <td>0</td>\n",
       "      <td>False</td>\n",
       "      <td>False</td>\n",
       "      <td>True</td>\n",
       "      <td>False</td>\n",
       "      <td>False</td>\n",
       "      <td>False</td>\n",
       "      <td>False</td>\n",
       "      <td>False</td>\n",
       "      <td>True</td>\n",
       "      <td>False</td>\n",
       "      <td>False</td>\n",
       "    </tr>\n",
       "    <tr>\n",
       "      <th>3830</th>\n",
       "      <td>28.0</td>\n",
       "      <td>79.00</td>\n",
       "      <td>0</td>\n",
       "      <td>False</td>\n",
       "      <td>True</td>\n",
       "      <td>False</td>\n",
       "      <td>False</td>\n",
       "      <td>False</td>\n",
       "      <td>False</td>\n",
       "      <td>False</td>\n",
       "      <td>False</td>\n",
       "      <td>True</td>\n",
       "      <td>False</td>\n",
       "      <td>False</td>\n",
       "    </tr>\n",
       "    <tr>\n",
       "      <th>3831</th>\n",
       "      <td>57.0</td>\n",
       "      <td>36.00</td>\n",
       "      <td>2</td>\n",
       "      <td>False</td>\n",
       "      <td>True</td>\n",
       "      <td>False</td>\n",
       "      <td>False</td>\n",
       "      <td>False</td>\n",
       "      <td>False</td>\n",
       "      <td>False</td>\n",
       "      <td>False</td>\n",
       "      <td>False</td>\n",
       "      <td>False</td>\n",
       "      <td>True</td>\n",
       "    </tr>\n",
       "    <tr>\n",
       "      <th>3832</th>\n",
       "      <td>44.0</td>\n",
       "      <td>36.00</td>\n",
       "      <td>2</td>\n",
       "      <td>True</td>\n",
       "      <td>False</td>\n",
       "      <td>False</td>\n",
       "      <td>False</td>\n",
       "      <td>False</td>\n",
       "      <td>False</td>\n",
       "      <td>False</td>\n",
       "      <td>False</td>\n",
       "      <td>False</td>\n",
       "      <td>False</td>\n",
       "      <td>True</td>\n",
       "    </tr>\n",
       "    <tr>\n",
       "      <th>3833</th>\n",
       "      <td>0.0</td>\n",
       "      <td>79.00</td>\n",
       "      <td>0</td>\n",
       "      <td>False</td>\n",
       "      <td>False</td>\n",
       "      <td>True</td>\n",
       "      <td>False</td>\n",
       "      <td>False</td>\n",
       "      <td>False</td>\n",
       "      <td>False</td>\n",
       "      <td>False</td>\n",
       "      <td>True</td>\n",
       "      <td>False</td>\n",
       "      <td>False</td>\n",
       "    </tr>\n",
       "  </tbody>\n",
       "</table>\n",
       "<p>3834 rows × 14 columns</p>\n",
       "</div>"
      ],
      "text/plain": [
       "      minutes_watched     CLV  region  channel_1  channel_2  channel_3  \\\n",
       "0              3197.0  205.42       2      False      False      False   \n",
       "1                63.0  149.99       0       True      False      False   \n",
       "2               605.0  119.00       2      False       True      False   \n",
       "3                20.0  240.00       2      False      False      False   \n",
       "4               245.0  184.36       1      False      False      False   \n",
       "...               ...     ...     ...        ...        ...        ...   \n",
       "3829             11.0   79.00       0      False      False       True   \n",
       "3830             28.0   79.00       0      False       True      False   \n",
       "3831             57.0   36.00       2      False       True      False   \n",
       "3832             44.0   36.00       2       True      False      False   \n",
       "3833              0.0   79.00       0      False      False       True   \n",
       "\n",
       "      channel_4  channel_5  channel_6  channel_7  channel_8  country_region_0  \\\n",
       "0          True      False      False      False      False             False   \n",
       "1         False      False      False      False      False              True   \n",
       "2         False      False      False      False      False             False   \n",
       "3          True      False      False      False      False             False   \n",
       "4          True      False      False      False      False             False   \n",
       "...         ...        ...        ...        ...        ...               ...   \n",
       "3829      False      False      False      False      False              True   \n",
       "3830      False      False      False      False      False              True   \n",
       "3831      False      False      False      False      False             False   \n",
       "3832      False      False      False      False      False             False   \n",
       "3833      False      False      False      False      False              True   \n",
       "\n",
       "      country_region_1  country_region_2  \n",
       "0                False              True  \n",
       "1                False             False  \n",
       "2                False              True  \n",
       "3                False              True  \n",
       "4                 True             False  \n",
       "...                ...               ...  \n",
       "3829             False             False  \n",
       "3830             False             False  \n",
       "3831             False              True  \n",
       "3832             False              True  \n",
       "3833             False             False  \n",
       "\n",
       "[3834 rows x 14 columns]"
      ]
     },
     "execution_count": 17,
     "metadata": {},
     "output_type": "execute_result"
    }
   ],
   "source": [
    "df_segmentation"
   ]
  },
  {
   "cell_type": "code",
   "execution_count": 18,
   "id": "dc6a22a0-5682-46bd-8a7b-9cc74464a405",
   "metadata": {
    "tags": []
   },
   "outputs": [],
   "source": [
    "# rename the columns after adding the dummie variables\n",
    "df_segmentation = df_segmentation.rename(columns = {'channel_1':'Google', 'channel_2':'Facebook', 'channel_3':'YouTube','channel_4':'LinkedIn', \n",
    "                                                    'channel_5':'Twitter', 'channel_6':'Instagram', 'channel_7':'Friend', 'channel_8':'Other',\n",
    "                                                    'country_region_0':'Region_0','country_region_1':'Region_1','country_region_2':'Region_2'})"
   ]
  },
  {
   "cell_type": "code",
   "execution_count": 19,
   "id": "40e90ea1-1848-44a2-80c8-c3c03c1da753",
   "metadata": {
    "tags": []
   },
   "outputs": [
    {
     "data": {
      "text/html": [
       "<div>\n",
       "<style scoped>\n",
       "    .dataframe tbody tr th:only-of-type {\n",
       "        vertical-align: middle;\n",
       "    }\n",
       "\n",
       "    .dataframe tbody tr th {\n",
       "        vertical-align: top;\n",
       "    }\n",
       "\n",
       "    .dataframe thead th {\n",
       "        text-align: right;\n",
       "    }\n",
       "</style>\n",
       "<table border=\"1\" class=\"dataframe\">\n",
       "  <thead>\n",
       "    <tr style=\"text-align: right;\">\n",
       "      <th></th>\n",
       "      <th>minutes_watched</th>\n",
       "      <th>CLV</th>\n",
       "      <th>region</th>\n",
       "      <th>Google</th>\n",
       "      <th>Facebook</th>\n",
       "      <th>YouTube</th>\n",
       "      <th>LinkedIn</th>\n",
       "      <th>Twitter</th>\n",
       "      <th>Instagram</th>\n",
       "      <th>Friend</th>\n",
       "      <th>Other</th>\n",
       "      <th>Region_0</th>\n",
       "      <th>Region_1</th>\n",
       "      <th>Region_2</th>\n",
       "    </tr>\n",
       "  </thead>\n",
       "  <tbody>\n",
       "    <tr>\n",
       "      <th>0</th>\n",
       "      <td>3197.0</td>\n",
       "      <td>205.42</td>\n",
       "      <td>2</td>\n",
       "      <td>False</td>\n",
       "      <td>False</td>\n",
       "      <td>False</td>\n",
       "      <td>True</td>\n",
       "      <td>False</td>\n",
       "      <td>False</td>\n",
       "      <td>False</td>\n",
       "      <td>False</td>\n",
       "      <td>False</td>\n",
       "      <td>False</td>\n",
       "      <td>True</td>\n",
       "    </tr>\n",
       "    <tr>\n",
       "      <th>1</th>\n",
       "      <td>63.0</td>\n",
       "      <td>149.99</td>\n",
       "      <td>0</td>\n",
       "      <td>True</td>\n",
       "      <td>False</td>\n",
       "      <td>False</td>\n",
       "      <td>False</td>\n",
       "      <td>False</td>\n",
       "      <td>False</td>\n",
       "      <td>False</td>\n",
       "      <td>False</td>\n",
       "      <td>True</td>\n",
       "      <td>False</td>\n",
       "      <td>False</td>\n",
       "    </tr>\n",
       "    <tr>\n",
       "      <th>2</th>\n",
       "      <td>605.0</td>\n",
       "      <td>119.00</td>\n",
       "      <td>2</td>\n",
       "      <td>False</td>\n",
       "      <td>True</td>\n",
       "      <td>False</td>\n",
       "      <td>False</td>\n",
       "      <td>False</td>\n",
       "      <td>False</td>\n",
       "      <td>False</td>\n",
       "      <td>False</td>\n",
       "      <td>False</td>\n",
       "      <td>False</td>\n",
       "      <td>True</td>\n",
       "    </tr>\n",
       "    <tr>\n",
       "      <th>3</th>\n",
       "      <td>20.0</td>\n",
       "      <td>240.00</td>\n",
       "      <td>2</td>\n",
       "      <td>False</td>\n",
       "      <td>False</td>\n",
       "      <td>False</td>\n",
       "      <td>True</td>\n",
       "      <td>False</td>\n",
       "      <td>False</td>\n",
       "      <td>False</td>\n",
       "      <td>False</td>\n",
       "      <td>False</td>\n",
       "      <td>False</td>\n",
       "      <td>True</td>\n",
       "    </tr>\n",
       "    <tr>\n",
       "      <th>4</th>\n",
       "      <td>245.0</td>\n",
       "      <td>184.36</td>\n",
       "      <td>1</td>\n",
       "      <td>False</td>\n",
       "      <td>False</td>\n",
       "      <td>False</td>\n",
       "      <td>True</td>\n",
       "      <td>False</td>\n",
       "      <td>False</td>\n",
       "      <td>False</td>\n",
       "      <td>False</td>\n",
       "      <td>False</td>\n",
       "      <td>True</td>\n",
       "      <td>False</td>\n",
       "    </tr>\n",
       "    <tr>\n",
       "      <th>...</th>\n",
       "      <td>...</td>\n",
       "      <td>...</td>\n",
       "      <td>...</td>\n",
       "      <td>...</td>\n",
       "      <td>...</td>\n",
       "      <td>...</td>\n",
       "      <td>...</td>\n",
       "      <td>...</td>\n",
       "      <td>...</td>\n",
       "      <td>...</td>\n",
       "      <td>...</td>\n",
       "      <td>...</td>\n",
       "      <td>...</td>\n",
       "      <td>...</td>\n",
       "    </tr>\n",
       "    <tr>\n",
       "      <th>3829</th>\n",
       "      <td>11.0</td>\n",
       "      <td>79.00</td>\n",
       "      <td>0</td>\n",
       "      <td>False</td>\n",
       "      <td>False</td>\n",
       "      <td>True</td>\n",
       "      <td>False</td>\n",
       "      <td>False</td>\n",
       "      <td>False</td>\n",
       "      <td>False</td>\n",
       "      <td>False</td>\n",
       "      <td>True</td>\n",
       "      <td>False</td>\n",
       "      <td>False</td>\n",
       "    </tr>\n",
       "    <tr>\n",
       "      <th>3830</th>\n",
       "      <td>28.0</td>\n",
       "      <td>79.00</td>\n",
       "      <td>0</td>\n",
       "      <td>False</td>\n",
       "      <td>True</td>\n",
       "      <td>False</td>\n",
       "      <td>False</td>\n",
       "      <td>False</td>\n",
       "      <td>False</td>\n",
       "      <td>False</td>\n",
       "      <td>False</td>\n",
       "      <td>True</td>\n",
       "      <td>False</td>\n",
       "      <td>False</td>\n",
       "    </tr>\n",
       "    <tr>\n",
       "      <th>3831</th>\n",
       "      <td>57.0</td>\n",
       "      <td>36.00</td>\n",
       "      <td>2</td>\n",
       "      <td>False</td>\n",
       "      <td>True</td>\n",
       "      <td>False</td>\n",
       "      <td>False</td>\n",
       "      <td>False</td>\n",
       "      <td>False</td>\n",
       "      <td>False</td>\n",
       "      <td>False</td>\n",
       "      <td>False</td>\n",
       "      <td>False</td>\n",
       "      <td>True</td>\n",
       "    </tr>\n",
       "    <tr>\n",
       "      <th>3832</th>\n",
       "      <td>44.0</td>\n",
       "      <td>36.00</td>\n",
       "      <td>2</td>\n",
       "      <td>True</td>\n",
       "      <td>False</td>\n",
       "      <td>False</td>\n",
       "      <td>False</td>\n",
       "      <td>False</td>\n",
       "      <td>False</td>\n",
       "      <td>False</td>\n",
       "      <td>False</td>\n",
       "      <td>False</td>\n",
       "      <td>False</td>\n",
       "      <td>True</td>\n",
       "    </tr>\n",
       "    <tr>\n",
       "      <th>3833</th>\n",
       "      <td>0.0</td>\n",
       "      <td>79.00</td>\n",
       "      <td>0</td>\n",
       "      <td>False</td>\n",
       "      <td>False</td>\n",
       "      <td>True</td>\n",
       "      <td>False</td>\n",
       "      <td>False</td>\n",
       "      <td>False</td>\n",
       "      <td>False</td>\n",
       "      <td>False</td>\n",
       "      <td>True</td>\n",
       "      <td>False</td>\n",
       "      <td>False</td>\n",
       "    </tr>\n",
       "  </tbody>\n",
       "</table>\n",
       "<p>3834 rows × 14 columns</p>\n",
       "</div>"
      ],
      "text/plain": [
       "      minutes_watched     CLV  region  Google  Facebook  YouTube  LinkedIn  \\\n",
       "0              3197.0  205.42       2   False     False    False      True   \n",
       "1                63.0  149.99       0    True     False    False     False   \n",
       "2               605.0  119.00       2   False      True    False     False   \n",
       "3                20.0  240.00       2   False     False    False      True   \n",
       "4               245.0  184.36       1   False     False    False      True   \n",
       "...               ...     ...     ...     ...       ...      ...       ...   \n",
       "3829             11.0   79.00       0   False     False     True     False   \n",
       "3830             28.0   79.00       0   False      True    False     False   \n",
       "3831             57.0   36.00       2   False      True    False     False   \n",
       "3832             44.0   36.00       2    True     False    False     False   \n",
       "3833              0.0   79.00       0   False     False     True     False   \n",
       "\n",
       "      Twitter  Instagram  Friend  Other  Region_0  Region_1  Region_2  \n",
       "0       False      False   False  False     False     False      True  \n",
       "1       False      False   False  False      True     False     False  \n",
       "2       False      False   False  False     False     False      True  \n",
       "3       False      False   False  False     False     False      True  \n",
       "4       False      False   False  False     False      True     False  \n",
       "...       ...        ...     ...    ...       ...       ...       ...  \n",
       "3829    False      False   False  False      True     False     False  \n",
       "3830    False      False   False  False      True     False     False  \n",
       "3831    False      False   False  False     False     False      True  \n",
       "3832    False      False   False  False     False     False      True  \n",
       "3833    False      False   False  False      True     False     False  \n",
       "\n",
       "[3834 rows x 14 columns]"
      ]
     },
     "execution_count": 19,
     "metadata": {},
     "output_type": "execute_result"
    }
   ],
   "source": [
    "df_segmentation"
   ]
  },
  {
   "cell_type": "markdown",
   "id": "825d8c66-7eea-4d40-8e32-790ff1daeb33",
   "metadata": {
    "jupyter": {
     "outputs_hidden": true
    }
   },
   "source": [
    "## Part 2: Model Implementation"
   ]
  },
  {
   "cell_type": "markdown",
   "id": "f88a1a8b-4806-46e0-8cf9-ce6ce5d3e857",
   "metadata": {},
   "source": [
    "### Data Standardization:\n",
    "\n",
    "Given such a difference in magnitude regarding `minutes_watched` vs `CLV` from the plot, the data must be standardize before employing the hierarchical and k-means clustering techniques. Without it, the result will likely be unreliable or skewed."
   ]
  },
  {
   "cell_type": "code",
   "execution_count": 20,
   "id": "e5b128b6-3f1f-4841-82d2-03de5494a7c2",
   "metadata": {
    "tags": []
   },
   "outputs": [
    {
     "data": {
      "text/plain": [
       "array([[ 0.17542513,  1.23521866,  0.90235187, ..., -0.74396546,\n",
       "        -0.36969391,  0.95410372],\n",
       "       [-0.25376647,  0.44855443, -1.26464912, ...,  1.34414843,\n",
       "        -0.36969391, -1.04810408],\n",
       "       [-0.17954125,  0.00874342,  0.90235187, ..., -0.74396546,\n",
       "        -0.36969391,  0.95410372],\n",
       "       ...,\n",
       "       [-0.25458815, -1.16919507,  0.90235187, ..., -0.74396546,\n",
       "        -0.36969391,  0.95410372],\n",
       "       [-0.25636846, -1.16919507,  0.90235187, ..., -0.74396546,\n",
       "        -0.36969391,  0.95410372],\n",
       "       [-0.26239413, -0.55893778, -1.26464912, ...,  1.34414843,\n",
       "        -0.36969391, -1.04810408]])"
      ]
     },
     "execution_count": 20,
     "metadata": {},
     "output_type": "execute_result"
    }
   ],
   "source": [
    "# Initializing a StandardScaler object to standardize the features\n",
    "scaler = StandardScaler()\n",
    "\n",
    "# Standardizing the data in the 'df_segmentation' dataframe.\n",
    "# This means transforming the data so that it has a mean of 0 and a standard deviation of 1 for each feature.\n",
    "segmentation_std = scaler.fit_transform(df_segmentation)\n",
    "segmentation_std"
   ]
  },
  {
   "cell_type": "markdown",
   "id": "97c9f1f9-f8d6-4ba9-b4d2-0173c72e24ef",
   "metadata": {
    "jupyter": {
     "outputs_hidden": true
    }
   },
   "source": [
    "### Hierarchical Clustering:\n",
    "\n",
    "After the data standardization is complete, I start hierarchical clustering using linkage package from scipy.cluster.hierarchy with ward's method. The 'ward' method minimizes the sum of squared differences within all clusters."
   ]
  },
  {
   "cell_type": "code",
   "execution_count": 21,
   "id": "68b8db24-5e2b-4617-a095-4ea1c9ee825a",
   "metadata": {
    "tags": []
   },
   "outputs": [],
   "source": [
    "hierarchical_clustering = linkage(segmentation_std, method='ward')"
   ]
  },
  {
   "cell_type": "code",
   "execution_count": 22,
   "id": "363dbb04-2be1-45d1-a6ba-40410dcc5b85",
   "metadata": {
    "tags": []
   },
   "outputs": [
    {
     "data": {
      "image/png": "[encoded data removed]",
      "text/plain": [
       "<Figure size 800x600 with 1 Axes>"
      ]
     },
     "metadata": {},
     "output_type": "display_data"
    }
   ],
   "source": [
    "# Visualizatino using matplotlib\n",
    "plt.figure(figsize=(8, 6))\n",
    "plt.title('Hierarchical Clustering Dendrogram')\n",
    "plt.xlabel('Observations')\n",
    "plt.ylabel('Distance')\n",
    "dendrogram(hierarchical_clustering, truncate_mode='level', p=5, show_leaf_counts=False, no_labels=True)\n",
    "plt.savefig('hierarchical.png')\n",
    "plt.show()"
   ]
  },
  {
   "cell_type": "markdown",
   "id": "f5899bc4-c4f0-4ece-8fb3-fc2e125e926e",
   "metadata": {},
   "source": [
    "The dendrogram points to eight separate clusters."
   ]
  },
  {
   "cell_type": "markdown",
   "id": "ab3e975f-8d09-420d-a184-9a18bf5844df",
   "metadata": {},
   "source": [
    "### K-means clustering:\n",
    "\n",
    "This is another clustering method. I perform an iteration with 10 k-values utilizing the k-means++ as the initializer. "
   ]
  },
  {
   "cell_type": "code",
   "execution_count": 23,
   "id": "c207ded6-30ac-40f4-8576-43ab0beaee7a",
   "metadata": {
    "tags": []
   },
   "outputs": [],
   "source": [
    "inertia = [] # sum of squared distances to the nearest cluster center\n",
    "means = []\n",
    "k_values = range(1, 11) # change the range of k_values for more clusters\n",
    "\n",
    "for k in k_values:\n",
    "    kmeans = KMeans(n_clusters=k, init='k-means++', n_init=10, random_state=42)\n",
    "    kmeans.fit(segmentation_std)\n",
    "    \n",
    "    means.append(k)\n",
    "    inertia.append(kmeans.inertia_)"
   ]
  },
  {
   "cell_type": "code",
   "execution_count": 24,
   "id": "2c7f4b52-401c-4799-99eb-8fdf8169ebdd",
   "metadata": {
    "tags": []
   },
   "outputs": [
    {
     "data": {
      "image/png": "[encoded data removed]",
      "text/plain": [
       "<Figure size 1000x800 with 1 Axes>"
      ]
     },
     "metadata": {},
     "output_type": "display_data"
    }
   ],
   "source": [
    "# Generate the elbow plot\n",
    "plt.figure(figsize=(10, 8))\n",
    "plt.title('K=means Clustering')\n",
    "plt.plot(means, inertia, '-o')\n",
    "plt.xlabel('Number of Clusters')\n",
    "plt.ylabel('Inertia')\n",
    "plt.savefig('elbow')\n",
    "plt.show()"
   ]
  },
  {
   "cell_type": "markdown",
   "id": "0c0959e3-c92b-43a8-b770-dc6787af6782",
   "metadata": {},
   "source": [
    "Based on above elbow plot, we observe that the results of the K-means point to two, four, or nine different clusters. These results differ from the eight clusters found by the Hierarchical clustering.\n",
    "\n",
    "**Analysing the results:** K-means and Hierarchical clustering might suggest different numbers of clusters because of the following reasons:\n",
    "\n",
    "* **Different methodologies:** Hierarchical clustering builds a tree (or dendrogram) of clusters by successively splitting or merging them. The decision to split or merge can be based on various algorithms and criteria. On the other hand, k-means tries to find a predetermined number of clusters (k) that minimizes the within-cluster variance.\n",
    "\n",
    "* **Initial setup sensitivity:** K-means is highly sensitive to initial starting conditions—i.e., the initial placement of the centroid of each cluster. Different runs give different results. Hierarchical clustering is deterministic and will always provide the same result with the same data.\n",
    "\n",
    "* **Cluster shape:** K-means works best with spherical and evenly sized clusters. It might not do a good job if the clusters have irregular shapes, varying sizes, or densities. Hierarchical clustering does not have these assumptions.\n",
    "\n",
    "\n",
    "In this case, I opt for the hierarchical clustering results because it can determine the number of clusters, then apply them in the k-means - i.e., perform K-means clustering with eight clusters and analyze the resulting clusters using a summary table."
   ]
  },
  {
   "cell_type": "code",
   "execution_count": null,
   "id": "e4ed74c2-41b8-4ab1-9d69-4a61e5232afc",
   "metadata": {},
   "outputs": [],
   "source": []
  }
 ],
 "metadata": {
  "kernelspec": {
   "display_name": "Python 3 (ipykernel)",
   "language": "python",
   "name": "python3"
  },
  "language_info": {
   "codemirror_mode": {
    "name": "ipython",
    "version": 3
   },
   "file_extension": ".py",
   "mimetype": "text/x-python",
   "name": "python",
   "nbconvert_exporter": "python",
   "pygments_lexer": "ipython3",
   "version": "3.11.5"
  }
 },
 "nbformat": 4,
 "nbformat_minor": 5
}
